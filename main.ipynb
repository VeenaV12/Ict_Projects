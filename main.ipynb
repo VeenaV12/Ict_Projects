{
 "cells": [
  {
   "cell_type": "code",
   "execution_count": 4,
   "id": "a948e884",
   "metadata": {},
   "outputs": [
    {
     "name": "stdout",
     "output_type": "stream",
     "text": [
      "Length and Width of rectangle: 5 6\n",
      "Perimeter = 22\n",
      "Area = 30\n",
      "\n",
      "Length and Width of rectangle: 2 3\n",
      "Perimeter = 10\n",
      "Area = 6\n",
      "Volume = 24\n"
     ]
    }
   ],
   "source": [
    "#problem 10 /ipynb file\n",
    "from rectangle import *\n",
    "\n",
    "class parallelepiped(Rectangle):\n",
    "    def __init__(self, length, width, height):\n",
    "        super().__init__(length, width)\n",
    "        self.h = height\n",
    "        \n",
    "    def volume(self):\n",
    "        volume = self.l*self.b*self.h\n",
    "        print(\"Volume =\", volume)\n",
    "    \n",
    "\n",
    "r = Rectangle(5, 6)\n",
    "r.display()\n",
    "print()\n",
    "\n",
    "r = parallelepiped(2, 3, 4)\n",
    "r.display()\n",
    "r.volume()"
   ]
  },
  {
   "cell_type": "code",
   "execution_count": null,
   "id": "edd1da81",
   "metadata": {},
   "outputs": [],
   "source": []
  }
 ],
 "metadata": {
  "kernelspec": {
   "display_name": "Python 3 (ipykernel)",
   "language": "python",
   "name": "python3"
  },
  "language_info": {
   "codemirror_mode": {
    "name": "ipython",
    "version": 3
   },
   "file_extension": ".py",
   "mimetype": "text/x-python",
   "name": "python",
   "nbconvert_exporter": "python",
   "pygments_lexer": "ipython3",
   "version": "3.9.13"
  }
 },
 "nbformat": 4,
 "nbformat_minor": 5
}
