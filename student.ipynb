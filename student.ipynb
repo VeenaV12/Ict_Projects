{
 "cells": [
  {
   "cell_type": "code",
   "execution_count": 2,
   "id": "30ac86ed",
   "metadata": {},
   "outputs": [
    {
     "name": "stdout",
     "output_type": "stream",
     "text": [
      "Enter your name? Manu\n",
      "Enter your roll number? 15\n",
      "Enter your mark? 50\n",
      "Name: Manu\n",
      "Roll number: 15\n",
      "Mark: 50\n"
     ]
    }
   ],
   "source": [
    "# accept the details of student\n",
    "name = input(\"Enter your name? \")\n",
    "roll_number = input(\"Enter your roll number? \")\n",
    "mark = input(\"Enter your mark? \")\n",
    "\n",
    "#print details\n",
    "print(\"Name:\", name)\n",
    "print(\"Roll number:\", roll_number)\n",
    "print(\"Mark:\", mark)\n"
   ]
  }
 ],
 "metadata": {
  "kernelspec": {
   "display_name": "Python 3 (ipykernel)",
   "language": "python",
   "name": "python3"
  },
  "language_info": {
   "codemirror_mode": {
    "name": "ipython",
    "version": 3
   },
   "file_extension": ".py",
   "mimetype": "text/x-python",
   "name": "python",
   "nbconvert_exporter": "python",
   "pygments_lexer": "ipython3",
   "version": "3.9.13"
  }
 },
 "nbformat": 4,
 "nbformat_minor": 5
}
