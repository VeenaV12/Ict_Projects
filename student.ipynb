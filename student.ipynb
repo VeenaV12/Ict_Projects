{
 "cells": [
  {
   "cell_type": "code",
   "execution_count": 37,
   "id": "2b432ba4",
   "metadata": {},
   "outputs": [
    {
     "name": "stdout",
     "output_type": "stream",
     "text": [
      "Enter your name:Manu\n",
      "Enter your roll number: 15\n",
      "Enter your mark: 50\n",
      "Name: Manu\n",
      "Roll number: 15\n",
      "Mark: 50\n"
     ]
    }
   ],
   "source": [
    "#problem 1\n",
    "# accept details of student\n",
    "name = input(\"Enter your name:\")\n",
    "roll_number = input(\"Enter your roll number: \")\n",
    "mark = input(\"Enter your mark: \")\n",
    "\n",
    "#print details\n",
    "print(\"Name:\", name)\n",
    "print(\"Roll number:\", roll_number)\n",
    "print(\"Mark:\", mark)\n"
   ]
  },
  {
   "cell_type": "code",
   "execution_count": 1,
   "id": "14f05f50",
   "metadata": {},
   "outputs": [
    {
     "name": "stdout",
     "output_type": "stream",
     "text": [
      "Temperature in Fahrenheit: 32\n",
      "Temperature in Celsius:0.00\n",
      "Temperature in Celsius: 0\n",
      "Temperature in Fahrenheit:32.00\n"
     ]
    }
   ],
   "source": [
    "#problem 2\n",
    "# convert to celsius\n",
    "temp_in_fahren = float(input(\"Temperature in Fahrenheit: \"))\n",
    "fahren_to_celsius = (temp_in_fahren - 32)*5/9\n",
    "print(f\"Temperature in Celsius:{fahren_to_celsius:.2f}\")\n",
    "\n",
    "#convert to fahrenheit\n",
    "temp_in_celsius = float(input(\"Temperature in Celsius: \"))\n",
    "celsius_to_fahren = (temp_in_celsius * 9/5) + 32\n",
    "print(f\"Temperature in Fahrenheit:{celsius_to_fahren:.2f}\")"
   ]
  },
  {
   "cell_type": "code",
   "execution_count": 3,
   "id": "77d54e2f",
   "metadata": {},
   "outputs": [
    {
     "name": "stdout",
     "output_type": "stream",
     "text": [
      "Enter first number: 23\n",
      "Enter second number: 32\n",
      "Product = 736\n"
     ]
    }
   ],
   "source": [
    "#problem 3\n",
    "# accept numbers\n",
    "x = int(input(\"Enter first number: \"))\n",
    "y = int(input(\"Enter second number: \"))\n",
    "\n",
    "print(\"Product =\", x*y)"
   ]
  },
  {
   "cell_type": "code",
   "execution_count": 10,
   "id": "725de9d7",
   "metadata": {},
   "outputs": [
    {
     "name": "stdout",
     "output_type": "stream",
     "text": [
      "Enter the string: Learn Python by Developing a Website\n",
      "Learn**Python**by Developing a**Website\n"
     ]
    }
   ],
   "source": [
    "#problem 4\n",
    "# string = Learn Python by Developing a Website\n",
    "string = input(\"Enter the string: \")\n",
    "\n",
    "print(string[0:5]+\"**\"+string[6:12]+\"**\"+string[13:28]+\"**\"+string[29:36])\n"
   ]
  },
  {
   "cell_type": "code",
   "execution_count": 40,
   "id": "9c5ea33d",
   "metadata": {},
   "outputs": [
    {
     "name": "stdout",
     "output_type": "stream",
     "text": [
      "Enter the radius: 10\n",
      "Area = 314.16 square units\n"
     ]
    }
   ],
   "source": [
    "#problem 5\n",
    "from math import pi\n",
    "\n",
    "r = float(input(\"Enter the radius: \"))\n",
    "print(f\"Area = {pi*r**2:.2f} square units\")"
   ]
  },
  {
   "cell_type": "code",
   "execution_count": 34,
   "id": "f1cfb17d",
   "metadata": {},
   "outputs": [
    {
     "name": "stdout",
     "output_type": "stream",
     "text": [
      "Enter the number: 17\n",
      "Enter the position: 1\n",
      "List of Prime numbers = [2, 17, 3, 11, 41, 79, 13]\n"
     ]
    }
   ],
   "source": [
    "#problem 6\n",
    "prime_num = [2,3,11,41,79,13]\n",
    "new_num = int(input(\"Enter the number: \"))\n",
    "position = int(input(\"Enter the position: \"))\n",
    "\n",
    "prime_num.insert(position, new_num)\n",
    "print(\"List of Prime numbers =\",prime_num)"
   ]
  },
  {
   "cell_type": "code",
   "execution_count": 69,
   "id": "881f62fd",
   "metadata": {},
   "outputs": [
    {
     "name": "stdout",
     "output_type": "stream",
     "text": [
      "{'name': 'John', 'age': 5, 'salary': 8000, 'location': 'New York'}\n"
     ]
    }
   ],
   "source": [
    "#problem 7\n",
    "sample_dict = { \"name\": \"John\", \"age\":5, \"salary\": 8000, \"city\": \"New York\"}\n",
    "list_1 = list(sample_dict.popitem())\n",
    "list_1[0] = \"location\"\n",
    "sample_dict[list_1[0]] = list_1[1]\n",
    "print(sample_dict)"
   ]
  },
  {
   "cell_type": "code",
   "execution_count": 36,
   "id": "d8dd528d",
   "metadata": {},
   "outputs": [
    {
     "name": "stdout",
     "output_type": "stream",
     "text": [
      "Sample dictionary= {'emp1': {'name': 'John', 'salary': 7500}, 'emp2': {'name': 'Emma', 'salary': 8000}, 'emp3': {'name': 'Brad', 'salary': 8500}}\n"
     ]
    }
   ],
   "source": [
    "#problem 8\n",
    "sample_dict = {\n",
    "'emp1': {'name': 'John', 'salary': 7500},\n",
    "'emp2': {'name': 'Emma', 'salary': 8000},\n",
    "'emp3': {'name': 'Brad', 'salary': 500}}\n",
    "\n",
    "sample_dict[\"emp3\"][\"salary\"] = 8500\n",
    "print(\"Sample dictionary=\",sample_dict)"
   ]
  },
  {
   "cell_type": "code",
   "execution_count": 56,
   "id": "4190a2b2",
   "metadata": {},
   "outputs": [
    {
     "name": "stdout",
     "output_type": "stream",
     "text": [
      "New tuple =  (43, 54)\n"
     ]
    }
   ],
   "source": [
    "#problem 9\n",
    "tuple_1 = (10, 20, 43, 54, 56, 68)\n",
    "new_tuple = tuple_1[2:4]\n",
    "print(\"New tuple = \",new_tuple)"
   ]
  },
  {
   "cell_type": "code",
   "execution_count": 57,
   "id": "4f1f6d44",
   "metadata": {},
   "outputs": [
    {
     "name": "stdout",
     "output_type": "stream",
     "text": [
      "Count of 50 in tuple:  3\n"
     ]
    }
   ],
   "source": [
    "#problem 10\n",
    "tuple_1 = (50, 10, 60, 70, 50,83,567,50,81)\n",
    "count = tuple_1.count(50)\n",
    "print(\"Count of 50 in tuple: \", count)"
   ]
  }
 ],
 "metadata": {
  "kernelspec": {
   "display_name": "Python 3 (ipykernel)",
   "language": "python",
   "name": "python3"
  },
  "language_info": {
   "codemirror_mode": {
    "name": "ipython",
    "version": 3
   },
   "file_extension": ".py",
   "mimetype": "text/x-python",
   "name": "python",
   "nbconvert_exporter": "python",
   "pygments_lexer": "ipython3",
   "version": "3.9.13"
  }
 },
 "nbformat": 4,
 "nbformat_minor": 5
}
