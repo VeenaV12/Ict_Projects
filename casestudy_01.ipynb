{
 "cells": [
  {
   "cell_type": "code",
   "execution_count": 2,
   "id": "b7ae1d5a",
   "metadata": {},
   "outputs": [
    {
     "name": "stdout",
     "output_type": "stream",
     "text": [
      "Enter your score: 80\n",
      "Your grade is B\n"
     ]
    }
   ],
   "source": [
    "#problem 1\n",
    "score = int(input(\"Enter your score: \"))\n",
    "\n",
    "if score > 80:\n",
    "    print(\"Your grade is A\")\n",
    "elif score > 60:\n",
    "    print(\"Your grade is B\")\n",
    "elif score > 50:\n",
    "    print(\"Your grad is C\")\n",
    "elif score > 45:\n",
    "    print(\"Your grade is D\")\n",
    "elif score > 25:\n",
    "    print(\"Your grade is E\")\n",
    "else:\n",
    "    print(\"Your grade is F\")"
   ]
  },
  {
   "cell_type": "code",
   "execution_count": 102,
   "id": "548019ad",
   "metadata": {},
   "outputs": [
    {
     "name": "stdout",
     "output_type": "stream",
     "text": [
      "List of non-repeating character names:  ['John', 'Krishna']\n"
     ]
    }
   ],
   "source": [
    "#problem 2\n",
    "list_name = ['John','Peter','Meera','Mini','Krishna']\n",
    "\n",
    "new_list = [] \n",
    "\n",
    "while len(list_name) > 0:\n",
    "    name = list_name.pop(0) \n",
    "    for i in name:\n",
    "        if name.count(i) >1: # checks repeating character\n",
    "            break\n",
    "    else:\n",
    "        new_list.append(name) \n",
    "print(\"List of non-repeating character names: \",new_list)\n",
    "\n"
   ]
  },
  {
   "cell_type": "code",
   "execution_count": 38,
   "id": "916609a2",
   "metadata": {},
   "outputs": [
    {
     "name": "stdout",
     "output_type": "stream",
     "text": [
      "Enter length and breadth: 2,2\n",
      "It is square!\n"
     ]
    }
   ],
   "source": [
    "#problem 3\n",
    "x, y =  map(int,input(\"Enter length and breadth: \").split(\",\"))\n",
    "\n",
    "if x == y:\n",
    "    print(\"It is square!\")\n",
    "else:\n",
    "    print(\"It is not a square!\")"
   ]
  },
  {
   "cell_type": "code",
   "execution_count": 37,
   "id": "28b6a786",
   "metadata": {},
   "outputs": [
    {
     "name": "stdout",
     "output_type": "stream",
     "text": [
      "Enter the number of classes held: 100\n",
      "Enter the number of classes attended:100\n",
      "Percentage of attendance is 100.0. You are allowed to attend exam.\n"
     ]
    }
   ],
   "source": [
    "#problem 4\n",
    "class_held = int(input(\"Enter the number of classes held: \"))\n",
    "class_attended = int(input(\"Enter the number of classes attended:\"))\n",
    "\n",
    "# percentage of attendance\n",
    "attend_percent = (class_attended*100)/class_held\n",
    "\n",
    "if attend_percent >= 75:\n",
    "    print(f\"Percentage of attendance is {attend_percent}. You are allowed to attend exam.\")\n",
    "else:\n",
    "    print(f\"Percentage of attendance is {attend_percent}. You are not allowed to attend exam.\")\n",
    "                     "
   ]
  },
  {
   "cell_type": "code",
   "execution_count": 136,
   "id": "f0b690f5",
   "metadata": {},
   "outputs": [
    {
     "name": "stdout",
     "output_type": "stream",
     "text": [
      "Enter the limit: 8\n",
      "Enter the element: 2\n",
      "Enter the element: 43\n",
      "Enter the element: 12\n",
      "Enter the element: 66\n",
      "Enter the element: 8\n",
      "Enter the element: 21\n",
      "Enter the element: 79\n",
      "Enter the element: 10\n",
      "Sum =241\n",
      "Odd list =[43, 21, 79]\n",
      "Even list =[2, 12, 66, 8, 10]\n"
     ]
    }
   ],
   "source": [
    "#problem 5\n",
    "num_list = []\n",
    "odd_list = []\n",
    "even_list = []\n",
    "\n",
    "# create list\n",
    "limit = int(input(\"Enter the limit: \"))\n",
    "while limit > 0:\n",
    "    element = int(input(\"Enter the element: \"))\n",
    "    num_list.append(element)\n",
    "    limit -= 1\n",
    "\n",
    "#sort list to odd or even\n",
    "for n in num_list:\n",
    "    if n%2 == 0:\n",
    "        even_list.append(n)\n",
    "    else:\n",
    "        odd_list.append(n)\n",
    "        \n",
    "sum_elements = sum(num_list)\n",
    "\n",
    "print(f\"Sum ={sum_elements}\")\n",
    "print(f\"Odd list ={odd_list}\")\n",
    "print(f\"Even list ={even_list}\")"
   ]
  },
  {
   "cell_type": "code",
   "execution_count": 137,
   "id": "23154c2e",
   "metadata": {},
   "outputs": [
    {
     "name": "stdout",
     "output_type": "stream",
     "text": [
      "Hello!, Welcome to E-Wardrobe\n",
      "How can i help you?\n",
      "Enter 'Quit' if you want me to stop\n",
      "Enter your queries:\n",
      "Please enter a query\n",
      "Enter your queries:good morning\n",
      "Good morning!\n",
      "Enter your queries:where is my order \n",
      "Please check this link to see your order updates\n",
      "Enter your queries:I want a refund\n",
      "Our sales executive will contact you soon\n",
      "Enter your queries:where is your store\n",
      "We have a store near your home. Check on this list\n",
      "Enter your queries:Do you have any discount\n",
      "We have wide variety of this item.\n",
      "Please check the best seller list here!\n",
      "Enter your queries:quit\n",
      "Hope you had a great time! See you soon..\n"
     ]
    }
   ],
   "source": [
    "#problem 6\n",
    "#sample chatbot for an ecommerce website\n",
    "print(\"Hello!, Welcome to E-Wardrobe\")\n",
    "print(\"How can i help you?\")\n",
    "print(\"Enter 'Quit' if you want me to stop\")\n",
    "\n",
    "while True:\n",
    "    query = input(\"Enter your queries:\")\n",
    "    query = query.lower().split()\n",
    "    if \"quit\" in query:\n",
    "        print(\"Hope you had a great time! See you soon..\")\n",
    "        break\n",
    "    if len(query) == 0:\n",
    "        print(\"Please enter a query\")\n",
    "    elif \"morning\" in query:\n",
    "        print(\"Good morning!\")\n",
    "    elif \"evening\" in query:\n",
    "        print(\"Good evening!\")\n",
    "    elif \"order\" in query:\n",
    "        print(\"Please check this link to see your order updates\")\n",
    "    elif \"refund\" in query:\n",
    "        print(\"Our sales executive will contact you soon\")\n",
    "    elif \"store\" in query:\n",
    "        print(\"We have a store near your home. Check on this list\")\n",
    "    elif \"product\" or \"variety\"in query:\n",
    "        print(\"We have wide variety of this item.\")\n",
    "        print(\"Please check the best seller list here!\")\n",
    "    elif \"discount\" in query:\n",
    "        print(\"Ofcourse!\")\n",
    "        print(\"Plese sign up on this form. You will be the first one get to know about discount!\")\n",
    "        \n",
    "    else:\n",
    "        print(\"Try contact our business executive, Thank you!\")"
   ]
  },
  {
   "cell_type": "code",
   "execution_count": 144,
   "id": "15c1e4ad",
   "metadata": {},
   "outputs": [
    {
     "name": "stdout",
     "output_type": "stream",
     "text": [
      "Enter the coefficients: 1 2 3\n",
      "Complex roots\n",
      "The roots are -1.00+1.41i and -1.00-1.41i\n"
     ]
    }
   ],
   "source": [
    "#problem 7\n",
    "from math import sqrt\n",
    "a, b, c = map(float, input(\"Enter the coefficients: \").split(\" \"))\n",
    "\n",
    "discriminent = (b*b)-(4*a*c)\n",
    "\n",
    "if discriminent == 0:\n",
    "    root_1 = root_2 = -b/(2*a)\n",
    "    print(\"Real and equal roots\")\n",
    "    print(f\"root1= root2= {root_1}\")\n",
    "\n",
    "elif discriminent > 0:\n",
    "    root_1 = (-b + sqrt(discriminent))/(2*a)\n",
    "    root_2 = (-b - sqrt(discriminent))/(2*a)\n",
    "    print(\"Real and distinct roots\")\n",
    "    print(f\"root1 = {root_1}, root2 = {root_2}\")\n",
    "    \n",
    "else:\n",
    "    real_part = -b/(2*a)\n",
    "    img_part = sqrt(-discriminent)/(2*a)\n",
    "    print(\"Complex roots\")\n",
    "    print(f\"The roots are {real_part:.2f}+{img_part:.2f}i and {real_part:.2f}-{img_part:.2f}i\")"
   ]
  },
  {
   "cell_type": "code",
   "execution_count": 138,
   "id": "5953f899",
   "metadata": {},
   "outputs": [
    {
     "name": "stdout",
     "output_type": "stream",
     "text": [
      "Current Number 1 Previous Number 0 Sum: 1\n",
      "Current Number 2 Previous Number 1 Sum: 3\n",
      "Current Number 3 Previous Number 2 Sum: 5\n",
      "Current Number 4 Previous Number 3 Sum: 7\n",
      "Current Number 5 Previous Number 4 Sum: 9\n",
      "Current Number 6 Previous Number 5 Sum: 11\n",
      "Current Number 7 Previous Number 6 Sum: 13\n",
      "Current Number 8 Previous Number 7 Sum: 15\n",
      "Current Number 9 Previous Number 8 Sum: 17\n",
      "Current Number 10 Previous Number 9 Sum: 19\n"
     ]
    }
   ],
   "source": [
    "#problem 8\n",
    "limit = 10\n",
    "prev_num = 0\n",
    "cur_num = 1\n",
    "\n",
    "for _ in range(limit):\n",
    "    print(f\"Current Number {cur_num} Previous Number {prev_num} Sum: {cur_num+prev_num}\") \n",
    "    prev_num = cur_num\n",
    "    cur_num = cur_num + 1"
   ]
  },
  {
   "cell_type": "code",
   "execution_count": 150,
   "id": "e9568c58",
   "metadata": {},
   "outputs": [
    {
     "name": "stdout",
     "output_type": "stream",
     "text": [
      "Enter the limit: 15\n",
      "Prime numbers below 15:\n",
      "2\n",
      "3\n",
      "5\n",
      "7\n",
      "11\n",
      "13\n"
     ]
    }
   ],
   "source": [
    "#problem 9\n",
    "limit = int(input(\"Enter the limit: \")) #limit should be greater than 2 \n",
    "\n",
    "if limit > 2:\n",
    "    print(f\"Prime numbers below {limit}:\")\n",
    "    for i in range(2, limit):\n",
    "        for j in range(2, i):\n",
    "            if i%j == 0:\n",
    "                break\n",
    "        else:\n",
    "            print(i)\n",
    "    "
   ]
  },
  {
   "cell_type": "code",
   "execution_count": 80,
   "id": "9df17811",
   "metadata": {},
   "outputs": [
    {
     "name": "stdout",
     "output_type": "stream",
     "text": [
      "Enter the limit: 8\n",
      "Fibonacci series: 0, 1, 1, 2, 3, 5, 8, 13\n"
     ]
    }
   ],
   "source": [
    "#problem 10\n",
    "limit = int(input(\"Enter the limit: \"))\n",
    "\n",
    "#first two numbers \n",
    "num_1, num_2 = 0, 1\n",
    "\n",
    "print(\"Fibonacci series: \", end=\"\")\n",
    "if limit == 1:\n",
    "    print(num_1)\n",
    "elif limit == 2:\n",
    "    print(num_1, num_2, sep=\", \")\n",
    "elif limit > 2:\n",
    "    for _ in range(limit-1):    # print series until (n-1)th position\n",
    "        print(num_1, end=\", \")  #print series in single line\n",
    "        \n",
    "        next_num = num_1 + num_2\n",
    "        num_1 = num_2\n",
    "        num_2 = next_num\n",
    "        \n",
    "    print(num_1)                # print last number in the series, to avoid coma after last number\n",
    "    "
   ]
  }
 ],
 "metadata": {
  "kernelspec": {
   "display_name": "Python 3 (ipykernel)",
   "language": "python",
   "name": "python3"
  },
  "language_info": {
   "codemirror_mode": {
    "name": "ipython",
    "version": 3
   },
   "file_extension": ".py",
   "mimetype": "text/x-python",
   "name": "python",
   "nbconvert_exporter": "python",
   "pygments_lexer": "ipython3",
   "version": "3.9.13"
  }
 },
 "nbformat": 4,
 "nbformat_minor": 5
}
