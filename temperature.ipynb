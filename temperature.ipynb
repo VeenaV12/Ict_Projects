{
 "cells": [
  {
   "cell_type": "code",
   "execution_count": 15,
   "id": "ee60b24d",
   "metadata": {},
   "outputs": [
    {
     "name": "stdout",
     "output_type": "stream",
     "text": [
      "Temperature in Fahrenheit: 0\n",
      "Temperature in Celsius:-17.78\n",
      "Temperature in Celsius: -17.78\n",
      "Temperature in Fahrenheit:-0.00\n"
     ]
    }
   ],
   "source": [
    "# convert to celsius\n",
    "temp_in_fahren = float(input(\"Temperature in Fahrenheit: \"))\n",
    "fahren_to_celsius = (temp_in_fahren - 32)*5/9\n",
    "print(f\"Temperature in Celsius:{fahren_to_celsius:.2f}\")\n",
    "\n",
    "#convert to fahrenheit\n",
    "temp_in_celsius = float(input(\"Temperature in Celsius: \"))\n",
    "celsius_to_fahren = (temp_in_celsius * 9/5) + 32\n",
    "print(f\"Temperature in Fahrenheit:{celsius_to_fahren:.2f}\")"
   ]
  },
  {
   "cell_type": "code",
   "execution_count": null,
   "id": "313a9b24",
   "metadata": {},
   "outputs": [],
   "source": []
  }
 ],
 "metadata": {
  "kernelspec": {
   "display_name": "Python 3 (ipykernel)",
   "language": "python",
   "name": "python3"
  },
  "language_info": {
   "codemirror_mode": {
    "name": "ipython",
    "version": 3
   },
   "file_extension": ".py",
   "mimetype": "text/x-python",
   "name": "python",
   "nbconvert_exporter": "python",
   "pygments_lexer": "ipython3",
   "version": "3.9.13"
  }
 },
 "nbformat": 4,
 "nbformat_minor": 5
}
