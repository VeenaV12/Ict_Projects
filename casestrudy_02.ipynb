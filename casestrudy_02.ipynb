{
 "cells": [
  {
   "cell_type": "code",
   "execution_count": 38,
   "id": "a00b5ceb",
   "metadata": {},
   "outputs": [
    {
     "name": "stdout",
     "output_type": "stream",
     "text": [
      "Enter the elements : 23 12 76 34 89\n",
      "Sum of list:  234\n"
     ]
    }
   ],
   "source": [
    "#problem 1\n",
    "def main():\n",
    "    list1 = list(map(int,input(\"Enter the elements : \").split(\" \")))\n",
    "    print(\"Sum of list: \",sum_list(list1))\n",
    "    \n",
    "    \n",
    "def sum_list(list1):\n",
    "    sum_list = sum(list1)\n",
    "    return sum_list\n",
    "    \n",
    "if __name__ == \"__main__\":\n",
    "    main()"
   ]
  },
  {
   "cell_type": "code",
   "execution_count": 39,
   "id": "51f01624",
   "metadata": {},
   "outputs": [
    {
     "name": "stdout",
     "output_type": "stream",
     "text": [
      "Enter the string: Malayalam\n",
      "Palindrome\n"
     ]
    }
   ],
   "source": [
    "#problem 2\n",
    "def main():\n",
    "    string = input(\"Enter the string: \").lower()\n",
    "    if is_palindrome(string):\n",
    "        print(\"Palindrome\")\n",
    "    else:\n",
    "        print(\"Not a palindrome\")\n",
    "\n",
    "\n",
    "def is_palindrome(string):\n",
    "    return string == string[::-1]\n",
    "\n",
    "\n",
    "if __name__ == \"__main__\":\n",
    "    main()"
   ]
  },
  {
   "cell_type": "code",
   "execution_count": 47,
   "id": "d009e258",
   "metadata": {},
   "outputs": [
    {
     "name": "stdout",
     "output_type": "stream",
     "text": [
      "Enter the limit: 8\n",
      "The series: \n",
      "0 1 1 2 3 5 8 13 "
     ]
    }
   ],
   "source": [
    "#problem 3\n",
    "def main():\n",
    "    limit = int(input(\"Enter the limit: \"))\n",
    "    print(\"The series: \")\n",
    "    for i in range(limit):        \n",
    "        print(fibonacci(i),end=\" \")\n",
    "    \n",
    "def fibonacci(i):\n",
    "    if i <= 1:\n",
    "        return i\n",
    "    else:\n",
    "        return (fibonacci(i - 1) + fibonacci(i - 2))\n",
    "    \n",
    "if __name__ == \"__main__\":\n",
    "    main()\n",
    "        "
   ]
  },
  {
   "cell_type": "code",
   "execution_count": 7,
   "id": "6e348f83",
   "metadata": {},
   "outputs": [
    {
     "name": "stdout",
     "output_type": "stream",
     "text": [
      "Enter the number: 2\n",
      "Multiplication table of 2: \n",
      "1 * 2 = 2\n",
      "2 * 2 = 4\n",
      "3 * 2 = 6\n",
      "4 * 2 = 8\n",
      "5 * 2 = 10\n",
      "6 * 2 = 12\n",
      "7 * 2 = 14\n",
      "8 * 2 = 16\n",
      "9 * 2 = 18\n",
      "10 * 2 = 20\n"
     ]
    }
   ],
   "source": [
    "#problem 4\n",
    "def main():\n",
    "    number = int(input(\"Enter the number: \"))\n",
    "    print(f\"Multiplication table of {number}: \")\n",
    "    m = 1\n",
    "    multiplication_table(m, number)\n",
    "    \n",
    "    \n",
    "def multiplication_table(m, n):\n",
    "    if m > 10:\n",
    "        return\n",
    "    else:\n",
    "        print(f\"{m} * {n} = {m*n}\") \n",
    "    multiplication_table(m+1, n)   \n",
    "\n",
    "\n",
    "if __name__ == \"__main__\":\n",
    "    main()\n",
    "        "
   ]
  },
  {
   "cell_type": "code",
   "execution_count": 48,
   "id": "fbb2f582",
   "metadata": {},
   "outputs": [
    {
     "name": "stdout",
     "output_type": "stream",
     "text": [
      "Enter the word: qwertyuiop\n",
      "Number of vowels in qwertyuiop = 4\n",
      "Number of consonents in qwertyuiop = 6\n"
     ]
    }
   ],
   "source": [
    "#problem 5\n",
    "def main():\n",
    "    word = input(\"Enter the word: \").lower()\n",
    "    vowel, consonant = count_letter(word)\n",
    "    print(f\"Number of vowels in {word} = {vowel}\")\n",
    "    print(f\"Number of consonents in {word} = {consonant}\")\n",
    "    \n",
    "    \n",
    "def count_letter(word):\n",
    "    vowel, consonant = 0, 0\n",
    "    for i in word:\n",
    "        if i in [\"a\", \"e\", \"i\", \"o\", \"u\"]:\n",
    "            vowel += 1\n",
    "        else:\n",
    "            consonant += 1\n",
    "            \n",
    "    return vowel, consonant\n",
    "          \n",
    "\n",
    "if __name__ == \"__main__\":\n",
    "    main()"
   ]
  },
  {
   "cell_type": "code",
   "execution_count": 37,
   "id": "209da464",
   "metadata": {},
   "outputs": [
    {
     "name": "stdout",
     "output_type": "stream",
     "text": [
      "Enter the word in lowercase: qwertyuiop\n",
      "Uppercase of qwertyuiop is QWERTYUIOP\n"
     ]
    }
   ],
   "source": [
    "#problem 6\n",
    "def main():\n",
    "    word = input(\"Enter the word in lowercase: \")\n",
    "    upper = lower_to_upper(word)\n",
    "    print(f\"Uppercase of {word} is {upper}\")\n",
    "    \n",
    "def lower_to_upper(word):\n",
    "    return word.upper()\n",
    "\n",
    "if __name__ == \"__main__\":\n",
    "    main()\n",
    "        "
   ]
  },
  {
   "cell_type": "code",
   "execution_count": 10,
   "id": "89834b90",
   "metadata": {},
   "outputs": [
    {
     "name": "stdout",
     "output_type": "stream",
     "text": [
      "Old list =  [12, 0, None, 23, None, -55, 234, 89, None, 0, 6, -12]\n",
      "New list =  [12, 0, 23, -55, 234, 89, 0, 6, -12]\n"
     ]
    }
   ],
   "source": [
    "#problem 7\n",
    "list1 = [12, 0, None, 23, None, -55, 234, 89, None, 0, 6, -12]\n",
    "\n",
    "def main():\n",
    "    print(\"Old list = \", list1)\n",
    "    new_list = filter(lambda i : i != None, list1)\n",
    "    print(\"New list = \",list(new_list))\n",
    "    \n",
    "    \n",
    "if __name__ == \"__main__\":\n",
    "    main()"
   ]
  },
  {
   "cell_type": "code",
   "execution_count": 50,
   "id": "6c60ca1a",
   "metadata": {},
   "outputs": [
    {
     "name": "stdout",
     "output_type": "stream",
     "text": [
      "Length and Width of rectangle: 5 6\n",
      "Perimeter = 22\n",
      "Area = 30\n",
      "\n",
      "Length and Width of rectangle: 2 3\n",
      "Perimeter = 10\n",
      "Area = 6\n",
      "Volume = 24\n"
     ]
    }
   ],
   "source": [
    "#problem 8\n",
    "class Rectangle:\n",
    "    def __init__(self, length, width):\n",
    "        self.l = length\n",
    "        self.b = width\n",
    "        \n",
    "        \n",
    "    def perimeter(self):\n",
    "        perimeter = 2*(self.l + self.b)\n",
    "        return perimeter\n",
    "        \n",
    "        \n",
    "    def area(self):\n",
    "        area = self.l * self.b\n",
    "        return area\n",
    "        \n",
    "        \n",
    "    def display(self):\n",
    "        print(\"Length and Width of rectangle:\", self.l, self.b)\n",
    "        print(\"Perimeter =\", self.perimeter())\n",
    "        print(\"Area =\", self.area())\n",
    "        \n",
    "        \n",
    "class Parallelepiped(Rectangle):\n",
    "    def __init__(self, length, width, height):\n",
    "        super().__init__(length, width)\n",
    "        self.h = height\n",
    "        \n",
    "        \n",
    "    def volume(self):\n",
    "        volume = self.l*self.b*self.h\n",
    "        print(\"Volume =\", volume)\n",
    "    \n",
    "\n",
    "r = Rectangle(5, 6)\n",
    "r.display()\n",
    "print()\n",
    "\n",
    "r = Parallelepiped(2, 3, 4)\n",
    "r.display()\n",
    "r.volume()"
   ]
  },
  {
   "cell_type": "code",
   "execution_count": 52,
   "id": "7935f3c0",
   "metadata": {},
   "outputs": [
    {
     "name": "stdout",
     "output_type": "stream",
     "text": [
      "Name of account holder: Sangi\n",
      "Account Number:  940073\n",
      "Balance in account:  522.5\n"
     ]
    }
   ],
   "source": [
    "#problem 9\n",
    "class BankAccount:\n",
    "    def __init__(self, account_number, name, balance):\n",
    "        self.ac_number = account_number\n",
    "        self.name = name\n",
    "        self.balance = balance\n",
    "        \n",
    "        \n",
    "    def deposit(self, deposit):\n",
    "        self.balance = self.balance + deposit\n",
    "        \n",
    "        \n",
    "    def withdrawal(self, withdrawal):\n",
    "        self.balance = self.balance - withdrawal\n",
    "        \n",
    "        \n",
    "    def bankfee(self):\n",
    "        bankfee = self.balance*5/100\n",
    "        self.balance = self.balance - bankfee\n",
    "        \n",
    "        \n",
    "    def display(self):\n",
    "        print(\"Name of account holder:\", self.name)\n",
    "        print(\"Account Number: \", self.ac_number)\n",
    "        print(\"Balance in account: \", self.balance)\n",
    "        \n",
    "        \n",
    "b = BankAccount(940073, \"Sangi\", 500)\n",
    "b.deposit(100)\n",
    "b.withdrawal(50)\n",
    "b.bankfee()\n",
    "b.display()"
   ]
  }
 ],
 "metadata": {
  "kernelspec": {
   "display_name": "Python 3 (ipykernel)",
   "language": "python",
   "name": "python3"
  },
  "language_info": {
   "codemirror_mode": {
    "name": "ipython",
    "version": 3
   },
   "file_extension": ".py",
   "mimetype": "text/x-python",
   "name": "python",
   "nbconvert_exporter": "python",
   "pygments_lexer": "ipython3",
   "version": "3.9.13"
  }
 },
 "nbformat": 4,
 "nbformat_minor": 5
}
